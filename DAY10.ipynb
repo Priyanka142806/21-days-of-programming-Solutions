{
 "cells": [
  {
   "cell_type": "code",
   "execution_count": 3,
   "metadata": {},
   "outputs": [
    {
     "name": "stdout",
     "output_type": "stream",
     "text": [
      "Enter the length of array 5\n",
      "12 \n",
      "34\n",
      "48\n",
      "60\n",
      "72\n",
      "[12, 34, 48, 60, 72]\n",
      "[72, 34, 48, 60, 12]\n"
     ]
    }
   ],
   "source": [
    "#creating an empty list\n",
    "list=[ ]\n",
    "length=int(input(\"Enter the length of array \"))\n",
    "\n",
    "#taking elements from the user as input\n",
    "for i in range(0,length):\n",
    "    x=int(input())\n",
    "    list.append(x)\n",
    "    \n",
    "#printing the original list    \n",
    "print(list)\n",
    "\n",
    "#swapping the first and last element of the list\n",
    "temp=list[0]\n",
    "list[0]=list[-1]\n",
    "list[-1]=temp\n",
    "\n",
    "#printing the list after swapping\n",
    "print(list)\n",
    "\n"
   ]
  },
  {
   "cell_type": "code",
   "execution_count": null,
   "metadata": {},
   "outputs": [],
   "source": []
  }
 ],
 "metadata": {
  "kernelspec": {
   "display_name": "Python 3",
   "language": "python",
   "name": "python3"
  },
  "language_info": {
   "codemirror_mode": {
    "name": "ipython",
    "version": 3
   },
   "file_extension": ".py",
   "mimetype": "text/x-python",
   "name": "python",
   "nbconvert_exporter": "python",
   "pygments_lexer": "ipython3",
   "version": "3.7.6"
  }
 },
 "nbformat": 4,
 "nbformat_minor": 4
}


number = int(input('Enter number of integers you want to enter in the list \n'))
lst = []
for i in range(number):
    n = int(input())
    lst.append(n)
def swap(lis):
    popped = lis.pop()
    X = lis[0]
    lis.remove(X)
    lis.insert(0,popped)
    lis.append(X)
    return lis

swap(lst)
print(lst)
